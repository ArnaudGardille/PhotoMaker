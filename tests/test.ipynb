{
 "cells": [
  {
   "cell_type": "code",
   "execution_count": 7,
   "metadata": {},
   "outputs": [],
   "source": [
    "from photomaker import PhotoMakerStableDiffusionXLPipeline\n",
    "import torch"
   ]
  },
  {
   "cell_type": "code",
   "execution_count": 4,
   "metadata": {},
   "outputs": [],
   "source": [
    "from huggingface_hub import hf_hub_download\n",
    "photomaker_path = hf_hub_download(repo_id=\"TencentARC/PhotoMaker\", filename=\"photomaker-v1.bin\", repo_type=\"model\")"
   ]
  },
  {
   "cell_type": "markdown",
   "metadata": {},
   "source": [
    "## Dependency"
   ]
  },
  {
   "cell_type": "code",
   "execution_count": 11,
   "metadata": {},
   "outputs": [],
   "source": [
    "base_model =\"stabilityai/stable-diffusion-xl-base-1.0\""
   ]
  },
  {
   "cell_type": "code",
   "execution_count": 8,
   "metadata": {},
   "outputs": [
    {
     "name": "stdout",
     "output_type": "stream",
     "text": [
      "Using device: cuda\n"
     ]
    }
   ],
   "source": [
    "# setting device on GPU if available, else CPU\n",
    "device = torch.device('cuda' if torch.cuda.is_available() else 'cpu')\n",
    "print('Using device:', device)"
   ]
  },
  {
   "cell_type": "code",
   "execution_count": 12,
   "metadata": {},
   "outputs": [
    {
     "name": "stderr",
     "output_type": "stream",
     "text": [
      "Loading pipeline components...: 100%|██████████| 7/7 [00:15<00:00,  2.28s/it]\n"
     ]
    },
    {
     "name": "stdout",
     "output_type": "stream",
     "text": [
      "Loading PhotoMaker components [1] id_encoder from [/home/maitre/.cache/huggingface/hub/models--TencentARC--PhotoMaker/snapshots/3602d02ba7cc99ce8886e24063ed10e4f2510c84]...\n",
      "Loading PhotoMaker components [2] lora_weights from [/home/maitre/.cache/huggingface/hub/models--TencentARC--PhotoMaker/snapshots/3602d02ba7cc99ce8886e24063ed10e4f2510c84]\n"
     ]
    }
   ],
   "source": [
    "import torch\n",
    "import os\n",
    "from diffusers.utils import load_image\n",
    "from diffusers import EulerDiscreteScheduler\n",
    "from photomaker import PhotoMakerStableDiffusionXLPipeline\n",
    "\n",
    "### Load base model\n",
    "pipe = PhotoMakerStableDiffusionXLPipeline.from_pretrained(\n",
    "    base_model, #base_model_path,  # can change to any base model based on SDXL\n",
    "    torch_dtype=torch.bfloat16, \n",
    "    use_safetensors=True, \n",
    "    variant=\"fp16\",\n",
    ").to(device)\n",
    "\n",
    "### Load PhotoMaker checkpoint\n",
    "pipe.load_photomaker_adapter(\n",
    "    os.path.dirname(photomaker_path),\n",
    "    subfolder=\"\",\n",
    "    weight_name=os.path.basename(photomaker_path),\n",
    "    trigger_word=\"img\"  # define the trigger word\n",
    ")     \n",
    "\n",
    "pipe.scheduler = EulerDiscreteScheduler.from_config(pipe.scheduler.config)\n",
    "\n",
    "### Also can cooperate with other LoRA modules\n",
    "# pipe.load_lora_weights(os.path.dirname(lora_path), weight_name=lora_model_name, adapter_name=\"xl_more_art-full\")\n",
    "# pipe.set_adapters([\"photomaker\", \"xl_more_art-full\"], adapter_weights=[1.0, 0.5])\n",
    "\n",
    "pipe.fuse_lora()"
   ]
  },
  {
   "cell_type": "markdown",
   "metadata": {},
   "source": [
    "## Input ID Images\n"
   ]
  },
  {
   "cell_type": "markdown",
   "metadata": {},
   "source": [
    "### define the input ID images"
   ]
  },
  {
   "cell_type": "code",
   "execution_count": 13,
   "metadata": {},
   "outputs": [],
   "source": [
    "input_folder_name = './examples/newton_man'\n",
    "image_basename_list = os.listdir(input_folder_name)\n",
    "image_path_list = sorted([os.path.join(input_folder_name, basename) for basename in image_basename_list])\n",
    "\n",
    "input_id_images = []\n",
    "for image_path in image_path_list:\n",
    "    input_id_images.append(load_image(image_path))"
   ]
  },
  {
   "cell_type": "markdown",
   "metadata": {},
   "source": [
    "## Generation"
   ]
  },
  {
   "cell_type": "code",
   "execution_count": 14,
   "metadata": {},
   "outputs": [],
   "source": [
    "num_steps=50"
   ]
  },
  {
   "cell_type": "code",
   "execution_count": 15,
   "metadata": {},
   "outputs": [
    {
     "name": "stderr",
     "output_type": "stream",
     "text": [
      "100%|██████████| 50/50 [00:14<00:00,  3.53it/s]\n"
     ]
    }
   ],
   "source": [
    "# Note that the trigger word `img` must follow the class word for personalization\n",
    "prompt = \"a half-body portrait of a man img wearing the sunglasses in Iron man suit, best quality\"\n",
    "negative_prompt = \"(asymmetry, worst quality, low quality, illustration, 3d, 2d, painting, cartoons, sketch), open mouth, grayscale\"\n",
    "generator = torch.Generator(device=device).manual_seed(42)\n",
    "gen_images = pipe(\n",
    "    prompt=prompt,\n",
    "    input_id_images=input_id_images,\n",
    "    negative_prompt=negative_prompt,\n",
    "    num_images_per_prompt=1,\n",
    "    num_inference_steps=num_steps,\n",
    "    start_merge_step=10,\n",
    "    generator=generator,\n",
    ").images[0]\n",
    "gen_images.save('out_photomaker.png')"
   ]
  },
  {
   "cell_type": "code",
   "execution_count": null,
   "metadata": {},
   "outputs": [],
   "source": []
  }
 ],
 "metadata": {
  "kernelspec": {
   "display_name": "photomaker",
   "language": "python",
   "name": "python3"
  },
  "language_info": {
   "codemirror_mode": {
    "name": "ipython",
    "version": 3
   },
   "file_extension": ".py",
   "mimetype": "text/x-python",
   "name": "python",
   "nbconvert_exporter": "python",
   "pygments_lexer": "ipython3",
   "version": "3.10.13"
  }
 },
 "nbformat": 4,
 "nbformat_minor": 2
}
